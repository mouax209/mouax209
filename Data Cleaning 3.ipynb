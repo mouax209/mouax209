{
 "cells": [
  {
   "cell_type": "code",
   "execution_count": 2,
   "metadata": {},
   "outputs": [],
   "source": [
    "import pandas as pd\n",
    "import numpy as np\n",
    "from sqlalchemy import create_engine\n",
    "\n",
    "postgres_user = 'dsbc_student'\n",
    "postgres_pw = '7*.8G9QH21'\n",
    "postgres_host = '142.93.121.174'\n",
    "postgres_port = '5432'\n",
    "postgres_db = 'useducation'"
   ]
  },
  {
   "cell_type": "code",
   "execution_count": 3,
   "metadata": {},
   "outputs": [],
   "source": [
    "engine = create_engine('postgresql://{}:{}@{}:{}/{}'.format(\n",
    "    postgres_user, postgres_pw, postgres_host, postgres_port, postgres_db))"
   ]
  },
  {
   "cell_type": "code",
   "execution_count": 4,
   "metadata": {},
   "outputs": [],
   "source": [
    "education_df = pd.read_sql_query('select * from useducation',con=engine)"
   ]
  },
  {
   "cell_type": "code",
   "execution_count": 5,
   "metadata": {},
   "outputs": [],
   "source": [
    "engine.dispose()"
   ]
  },
  {
   "cell_type": "code",
   "execution_count": 6,
   "metadata": {},
   "outputs": [],
   "source": [
    "#Question 1 "
   ]
  },
  {
   "cell_type": "code",
   "execution_count": 7,
   "metadata": {},
   "outputs": [],
   "source": [
    "from scipy.stats import zscore"
   ]
  },
  {
   "cell_type": "code",
   "execution_count": 8,
   "metadata": {},
   "outputs": [],
   "source": [
    "##why make a fill list?"
   ]
  },
  {
   "cell_type": "code",
   "execution_count": 9,
   "metadata": {},
   "outputs": [],
   "source": [
    "fill_list = [\"ENROLL\", \"TOTAL_REVENUE\", \"FEDERAL_REVENUE\",\n",
    "             \"STATE_REVENUE\", \"LOCAL_REVENUE\", \"TOTAL_EXPENDITURE\",\n",
    "             \"INSTRUCTION_EXPENDITURE\", \"SUPPORT_SERVICES_EXPENDITURE\",\n",
    "             \"OTHER_EXPENDITURE\", \"CAPITAL_OUTLAY_EXPENDITURE\", \"GRADES_PK_G\",\n",
    "             \"GRADES_KG_G\", \"GRADES_4_G\", \"GRADES_8_G\", \"GRADES_12_G\", \"GRADES_1_8_G\",\n",
    "             \"GRADES_9_12_G\", \"GRADES_ALL_G\"]\n",
    "\n",
    "states = education_df[\"STATE\"].unique()\n",
    "\n",
    "for state in states:\n",
    "    education_df.loc[education_df[\"STATE\"] == state, fill_list] = education_df.loc[education_df[\"STATE\"] == state, fill_list].interpolate()\n",
    "  \n",
    "education_df.dropna(inplace=True)\n",
    "\n",
    "    "
   ]
  },
  {
   "cell_type": "code",
   "execution_count": 10,
   "metadata": {},
   "outputs": [
    {
     "name": "stdout",
     "output_type": "stream",
     "text": [
      "The score threshold is: 1\n",
      "The indices of the outliers:\n",
      "(array([  3,  27,  53,  62,  91, 102, 114, 142, 153, 165, 170, 191, 193,\n",
      "       199, 204, 216, 222, 226, 244, 246, 252, 257, 269, 274, 278, 295,\n",
      "       297, 303, 308, 322, 327, 331, 348, 350, 356, 361, 373, 378, 382,\n",
      "       399, 401, 404, 407, 412, 420, 425, 430, 434, 451, 453, 458]),)\n",
      "Number of outliers is: 51\n",
      "The score threshold is: 2\n",
      "The indices of the outliers:\n",
      "(array([ 27,  62,  91, 114, 142, 165, 193, 204, 216, 246, 257, 269, 297,\n",
      "       308, 322, 350, 361, 373, 401, 412, 425, 453, 458]),)\n",
      "Number of outliers is: 23\n",
      "The score threshold is: 3\n",
      "The indices of the outliers:\n",
      "(array([ 62, 114, 165, 216, 246, 269, 297, 322, 350, 373, 401, 412, 425,\n",
      "       453, 458]),)\n",
      "Number of outliers is: 15\n",
      "The score threshold is: 4\n",
      "The indices of the outliers:\n",
      "(array([165, 216, 269, 322, 373, 425, 453]),)\n",
      "Number of outliers is: 7\n"
     ]
    }
   ],
   "source": [
    "z_scores = zscore(education_df[\"TOTAL_REVENUE\"])\n",
    "for threshold in range(1,5):\n",
    "    print(\"The score threshold is: {}\".format(threshold))\n",
    "    print(\"The indices of the outliers:\")\n",
    "    print(np.where(z_scores > threshold))\n",
    "    print(\"Number of outliers is: {}\".format(len((np.where(z_scores > threshold)[0]))))"
   ]
  },
  {
   "cell_type": "code",
   "execution_count": 11,
   "metadata": {},
   "outputs": [
    {
     "name": "stdout",
     "output_type": "stream",
     "text": [
      "The score threshold is: 1\n",
      "The indices of the outliers:\n",
      "(array([  3,  27,  53,  62,  91, 102, 114, 142, 153, 165, 170, 191, 193,\n",
      "       199, 204, 216, 222, 226, 244, 246, 252, 257, 269, 274, 278, 295,\n",
      "       297, 303, 308, 322, 327, 331, 348, 350, 356, 361, 373, 378, 382,\n",
      "       399, 401, 407, 412, 420, 425, 430, 434, 451, 453, 458]),)\n",
      "Number of outliers is: 50\n",
      "The score threshold is: 2\n",
      "The indices of the outliers:\n",
      "(array([ 27,  62,  91, 114, 142, 153, 165, 193, 204, 216, 246, 257, 269,\n",
      "       297, 308, 322, 350, 361, 373, 401, 412, 425, 453, 458]),)\n",
      "Number of outliers is: 24\n",
      "The score threshold is: 3\n",
      "The indices of the outliers:\n",
      "(array([ 62, 114, 165, 216, 246, 257, 269, 297, 308, 322, 350, 373, 401,\n",
      "       412, 425, 453, 458]),)\n",
      "Number of outliers is: 17\n",
      "The score threshold is: 4\n",
      "The indices of the outliers:\n",
      "(array([114, 165, 216, 269, 322, 373, 425, 453]),)\n",
      "Number of outliers is: 8\n"
     ]
    }
   ],
   "source": [
    "z_scores = zscore(education_df[\"TOTAL_EXPENDITURE\"])\n",
    "for threshold in range(1,5):\n",
    "    print(\"The score threshold is: {}\".format(threshold))\n",
    "    print(\"The indices of the outliers:\")\n",
    "    print(np.where(z_scores > threshold))\n",
    "    print(\"Number of outliers is: {}\".format(len((np.where(z_scores > threshold)[0]))))"
   ]
  },
  {
   "cell_type": "code",
   "execution_count": 12,
   "metadata": {},
   "outputs": [],
   "source": [
    "#Yes, there are outliers"
   ]
  },
  {
   "cell_type": "code",
   "execution_count": 13,
   "metadata": {},
   "outputs": [],
   "source": [
    "#Question 2"
   ]
  },
  {
   "cell_type": "code",
   "execution_count": 14,
   "metadata": {},
   "outputs": [],
   "source": [
    "#CAp the values of the outliers w/ winsorizing"
   ]
  },
  {
   "cell_type": "code",
   "execution_count": 15,
   "metadata": {},
   "outputs": [
    {
     "data": {
      "text/plain": [
       "masked_array(data=[ 3572283. ,  4391555. ,  2297381. , 25716298. ,\n",
       "                    4075165. ,  4538234. ,   703245. , 13936240. ,\n",
       "                    1231550. ,  3284185. ,  3826435. ,  3815375. ,\n",
       "                    1465093. ,  5825606. ,  7479576. ,   924259. ,\n",
       "                    1642517. ,  6517111. ,  4284181. , 22401797. ,\n",
       "                    6903384. ,  6578388. ,  6521058. ,  1255301.5,\n",
       "                    5003267. ,  5397194. ,  2683400. , 25716298. ,\n",
       "                    5605280. ,   858807. , 10884510. ,  1363511. ,\n",
       "                    1467977. ,  8518477. ,  3327090. ,  4510972. ,\n",
       "                    4807097. ,  1842276. ,  7355698. ,  9466363. ,\n",
       "                    7736391. ,  6708608. ,  1051768. ,  2165529. ,\n",
       "                    2437438. ,  2165031. ,  9275837. ,   802768. ,\n",
       "                   14909952. ,  3876871. ,  4398318. ,  4961392. ,\n",
       "                    5805181. , 25716298. ,  2478420. ,  1193813. ,\n",
       "                    9154676. ,  2243563. ,  5298932. ,  1610289. ,\n",
       "                    6210287. ,  3242799. , 25716298. ,  6685029. ,\n",
       "                    6751815. ,  1317447. ,  1105963. , 20180142. ,\n",
       "                   13516783. ,  1602392. ,  1726941. , 21278177. ,\n",
       "                    9777720. ,  4517990. ,  3818740. ,  4700494. ,\n",
       "                    5515322. ,  2154117. ,  8732518. ,  5961104.5,\n",
       "                   11382398. , 19680370. ,  8938770. ,  3205193. ,\n",
       "                    7905481. ,  1214879. ,  2623966. ,  3009028. ,\n",
       "                    2122604. , 19812932. ,  2658140. , 25716298. ,\n",
       "                    9989670. ,   895278. , 18760200. ,  4376502. ,\n",
       "                    4978764. , 20626459. ,  1646238. ,  6024747. ,\n",
       "                     993823. ,  6482671. , 25716298. ,  2957874. ,\n",
       "                    1440961. , 10746679. ,  8802387. ,  2524444. ,\n",
       "                    9128279. ,   915515. ,  5904664. ,  1751718. ,\n",
       "                    7136794. ,  3999608. , 25716298. ,  7284280. ,\n",
       "                    7452057. ,  1480157. ,  1085658. , 23857012. ,\n",
       "                   14492666. ,  1765805. ,  1819519. , 22035569. ,\n",
       "                   11071431. ,  4599549. ,  4076597. ,  5750671. ,\n",
       "                    5941561. ,  2325138. ,  9782665. , 12726283. ,\n",
       "                   20489512. ,  9082593. ,  3610904. ,  8170965. ,\n",
       "                    1268328. ,  2708776. ,  3483540. ,  2333264. ,\n",
       "                   23023365. ,  3011696. , 25716298. , 10917913. ,\n",
       "                     985502. , 19785561. ,  4785987. ,  5597579. ,\n",
       "                   23183924. ,  1790591. ,  6572191. ,  1059303. ,\n",
       "                    7067521. , 25716298. ,  3188018. ,  1634534. ,\n",
       "                   12385157. ,  9399603. ,  2698703. ,  9433502. ,\n",
       "                    1033603. ,  7196459. ,  1938755. ,  8709531. ,\n",
       "                    4779308. , 25716298. ,  8039146. ,  8685421. ,\n",
       "                    1705204. ,  1140506. , 25716298. , 17389530. ,\n",
       "                    2199604. ,  1960472. , 23401917. , 11462062. ,\n",
       "                    5198975. ,  4823931. ,  6351636. ,  6657341. ,\n",
       "                    2501127. , 11541225. , 14315518. , 19839838. ,\n",
       "                   10030105. ,  4158733. ,  9245525. ,  1442434. ,\n",
       "                    3117931. ,  4346371. ,  2608190. , 25572112. ,\n",
       "                    3279467. , 25716298. , 12794086. ,  1042175. ,\n",
       "                   21336580. ,  5505213. ,  5634955. , 25627083. ,\n",
       "                    2082332. ,  7660995. ,  1096568. ,  7817659. ,\n",
       "                   25716298. ,  3618540. ,  1804519. , 14700853. ,\n",
       "                   10682397. ,  2983267. ,  9988878. ,  1390344. ,\n",
       "                    7815467. ,  2396412. ,  9580393. ,  5017352. ,\n",
       "                   25716298. ,  8682489. ,  9323053. ,  1798244. ,\n",
       "                     805362. ,   805362. , 25716298. , 19025136. ,\n",
       "                    2318671. ,  2078446. , 25716298. , 11218398. ,\n",
       "                    5732186. ,  5827751. ,  6831006. ,  8053960. ,\n",
       "                    2624504. , 12757599. , 15174814. , 19992550. ,\n",
       "                   11193640. ,  4552756. , 10227305. ,  1622485. ,\n",
       "                    3523803. ,  1223121. ,  4577881. ,  2757401. ,\n",
       "                   25716298. ,  3945515. , 25716298. , 14868070. ,\n",
       "                    1137260. , 22427481. ,  5941799. ,  6715011. ,\n",
       "                   25716298. ,  2171376. ,  8427391. ,  1273527. ,\n",
       "                    8611178. , 25716298. ,  4419750. ,  1661019. ,\n",
       "                   15510318. , 12240632. ,  3121728. , 10880480. ,\n",
       "                    1658156. ,  7411768. ,  2443898. ,  8610417. ,\n",
       "                    5669431. , 25716298. ,  8676451. ,  9439182. ,\n",
       "                    1808905. ,  1297175. , 25716298. , 17187481. ,\n",
       "                    2259104. ,  1960818. , 25716298. , 11113533. ,\n",
       "                    6057294. ,  5662146. ,  7253850. ,  8218870. ,\n",
       "                    2728535. , 13247697. , 15150898. , 18469948. ,\n",
       "                   10612480. ,  4345783. ,  9842505. ,  1655584. ,\n",
       "                    3676326. ,  4258855. ,  3001244. , 25716298. ,\n",
       "                    3694437. , 25716298. , 13767024. ,  1312226. ,\n",
       "                   23010396. ,  5644988. ,  6317635. , 25716298. ,\n",
       "                    2198940. ,  7961448. ,  1350617. ,  8961443. ,\n",
       "                   25716298. ,  4195916. ,  1722515. , 14675815. ,\n",
       "                   11928408. ,  3670119. , 11440718. ,  1656850. ,\n",
       "                    5619927.5,  7487741. ,  6271144.5,  2665933. ,\n",
       "                    7600581. ,  5226339. , 25716298. ,  8699125. ,\n",
       "                    9758850. ,  1924626. ,  1308438. , 25245400. ,\n",
       "                   17317504. ,  2345917. ,  1967676. , 25716298. ,\n",
       "                   11211155. ,  6318241. ,  5621023. ,  7413896. ,\n",
       "                    7940880. ,  2535405. , 13284637. , 16201905. ,\n",
       "                   17468264. , 10942019. ,  4370050. , 10001763. ,\n",
       "                    1679521. ,  3913038. ,  4057443. ,  2878534. ,\n",
       "                   25716298. ,  3536546. , 25716298. , 13650536. ,\n",
       "                    1516575. , 22015797. ,  5796945. ,  6228197. ,\n",
       "                   25716298. ,  2231413. ,  8224795. ,  1332496. ,\n",
       "                    9248235. , 25716298. ,  4584624. ,  1809138. ,\n",
       "                   15634918. , 12097549. ,  3488877. , 10845059. ,\n",
       "                    1675477. ,  7501799. ,  2968341. ,  7902600. ,\n",
       "                    5350543. , 25716298. ,  9557682. , 10542667. ,\n",
       "                    1975093. ,  1360942. , 25716298. , 18501103. ,\n",
       "                    2521004. ,  2029520. , 25716298. , 11378564. ,\n",
       "                    6772654. ,  6175724. ,  7554887. ,  8437263. ,\n",
       "                    2596180. , 13882823. , 16972319. , 17742903. ,\n",
       "                   11969872. ,  4624539. , 10540353. ,  1804841. ,\n",
       "                    4283846. ,  4183085. ,  3044720. , 25716298. ,\n",
       "                    3846641. , 25716298. , 14060699. ,  1804762. ,\n",
       "                   22561728. ,  6184819. ,  7011609. , 25716298. ,\n",
       "                    2326473. ,  8783362. ,  1464781. ,  9562527. ,\n",
       "                   25716298. ,  4537962. ,  1969415. , 16113212. ,\n",
       "                   13630138. ,  3466981. , 11553677. ,  1942406. ,\n",
       "                   25716298. ,  7708845. ,  2623014. ,  7987011. ,\n",
       "                    5434193. , 25716298. ,  9878524. , 10826431. ,\n",
       "                    2041952. ,  1322563. , 25716298. , 19158388. ,\n",
       "                    2733094. ,  2100980. , 25716298. , 11535287. ,\n",
       "                    6972412. ,  6134836. ,  7786281. ,  8248660. ,\n",
       "                    2706103. , 13992191. , 17037880. , 18001445. ,\n",
       "                   12848946. ,  4631356. , 10719882. ,  1879789. ,\n",
       "                    4640422. ,  4374249. ,  3124778. , 25716298. ,\n",
       "                    3729397. , 25716298. , 14207389. ,  1963630. ,\n",
       "                   23352516. ,  9562527. , 25716298. ,  4537962. ,\n",
       "                    1969415. , 16113212. , 13630138. ,  3466981. ,\n",
       "                   11553677. ,  1942406. ],\n",
       "             mask=False,\n",
       "       fill_value=1e+20)"
      ]
     },
     "execution_count": 15,
     "metadata": {},
     "output_type": "execute_result"
    }
   ],
   "source": [
    "from scipy.stats.mstats import winsorize\n",
    "\n",
    "winsorized_views = winsorize(education_df[\"TOTAL_EXPENDITURE\"], (0, 0.10))\n",
    "\n",
    "winsorized_views"
   ]
  },
  {
   "cell_type": "code",
   "execution_count": 16,
   "metadata": {},
   "outputs": [
    {
     "data": {
      "text/plain": [
       "masked_array(data=[ 3365113. ,  4143304. ,  2183384. , 26242376. ,\n",
       "                    3891203. ,  4686025. ,   678874. , 13684457. ,\n",
       "                    1199019. ,  3258040. ,  3622788. ,  3879633. ,\n",
       "                    1485138. ,  5688918. ,  7129757. ,   944623. ,\n",
       "                    1750519. ,  6516400. ,  4123018. , 22241369. ,\n",
       "                    6674519. ,  6354593. ,  6342623. ,  1306923. ,\n",
       "                    4885917. ,  5479168. ,  2844855. , 26242376. ,\n",
       "                    5884078. ,   881423. , 11197766. ,  1404895. ,\n",
       "                    1452222. ,  8489991. ,  3518271. ,  4330089. ,\n",
       "                    4785331. ,  1792390. ,  7419047. ,  9464271. ,\n",
       "                    7344747. ,  6675260. ,  1104935. ,  2263952. ,\n",
       "                    2252416. ,  2191695. ,  9064700. ,   812982. ,\n",
       "                   15327834. ,  3906833. ,  4369400. ,  4690418. ,\n",
       "                    5338531. , 26242376. ,  2546642. ,  1211370. ,\n",
       "                    8911426. ,  2243151. ,  5196054. ,  1425948. ,\n",
       "                    6529894. ,  3241275. , 26242376. ,  6297242. ,\n",
       "                    6959891. ,  1242436. ,  1114061. , 19549835. ,\n",
       "                   13524807. ,  2078877. ,  1685984. , 19627346. ,\n",
       "                    8246076. ,  4374803. ,  4068800. ,  4872025. ,\n",
       "                    5478321. ,  2162605. ,  8700979. ,  5668355.5,\n",
       "                   11591832. , 18488359. ,  8484497. ,  3260771. ,\n",
       "                    7622601. ,  1205602. ,  2600831. ,  2778564. ,\n",
       "                    2028602. , 19785039. ,  2626262. , 26242376. ,\n",
       "                    9907235. ,   882913. , 18018740. ,  4426835. ,\n",
       "                    4592019. , 19811545. ,  1728055. ,  5709707. ,\n",
       "                     965778. ,  5994756. , 26242376. ,  2875622. ,\n",
       "                    1451171. , 10504167. ,  8565636. ,  2497707. ,\n",
       "                    8931497. ,   962240. ,  5889966. ,  1599739. ,\n",
       "                    7550109. ,  3978240. , 26242376. ,  6910296. ,\n",
       "                    7898694. ,  1431710. ,  1109605. , 23216404. ,\n",
       "                   14724731. ,  2274166. ,  1796035. , 21611180. ,\n",
       "                   11653165. ,  4638125. ,  4223632. ,  5444309. ,\n",
       "                    5975074. ,  2324789. ,  9906219. , 12976279. ,\n",
       "                   19106382. ,  8777363. ,  3639643. ,  8340865. ,\n",
       "                    1293070. ,  2895640. ,  3381646. ,  2332695. ,\n",
       "                   23026334. ,  2982991. , 26242376. , 11098165. ,\n",
       "                     969520. , 19746239. ,  4892548. ,  5022050. ,\n",
       "                   22657782. ,  1903472. ,  6337711. ,  1053504. ,\n",
       "                    6806262. , 26242376. ,  3181279. ,  1628681. ,\n",
       "                   12182657. ,  9141383. ,  2701056. ,  9584108. ,\n",
       "                    1132160. ,  7069040. ,  1800616. ,  8724434. ,\n",
       "                    4415981. , 26242376. ,  7689014. ,  8913149. ,\n",
       "                    1694929. ,  1148358. , 26242376. , 17755989. ,\n",
       "                    2985593. ,  2011951. , 23897153. , 10458932. ,\n",
       "                    5194536. ,  5038100. ,  6226696. ,  7048732. ,\n",
       "                    2538161. , 11674965. , 14407777. , 20576110. ,\n",
       "                    9693509. ,  4220926. ,  8908844. ,  1474306. ,\n",
       "                    3234014. ,  4006081. ,  2600123. , 25293076. ,\n",
       "                    3272953. , 26242376. , 13063307. ,  1045678. ,\n",
       "                   22142424. ,  5491931. ,  5648586. , 25334577. ,\n",
       "                    2100679. ,  7130274. ,  1136570. ,  7617488. ,\n",
       "                   26242376. ,  3656090. ,  1836316. , 14176385. ,\n",
       "                   10350748. ,  2905489. , 10154985. ,  1477891. ,\n",
       "                    7186390. ,  2158970. ,  8802515. ,  4753142. ,\n",
       "                   26242376. ,  8310673. ,  9681268. ,  1718993. ,\n",
       "                     801008. ,   801008. , 26242376. , 17972839. ,\n",
       "                    2689758. ,  2182273. , 26242376. , 12999357. ,\n",
       "                    5732319. ,  5615208. ,  6706922. ,  7984550. ,\n",
       "                    2623127. , 13147931. , 15298022. , 19616665. ,\n",
       "                   10353784. ,  4392101. ,  9472520. ,  1607935. ,\n",
       "                    3522481. ,  1224896.5,  4442101. ,  2816162. ,\n",
       "                   26242376. ,  3703477. , 26242376. , 15410564. ,\n",
       "                    1150142. , 22779344. ,  6029807. ,  6158756. ,\n",
       "                   26242376. ,  2179714. ,  7669733. ,  1258876. ,\n",
       "                    8112895. , 26242376. ,  4238943. ,  1683034. ,\n",
       "                   15251481. , 12025012. ,  3097212. , 10991081. ,\n",
       "                    1675761. ,  7376725. ,  2357828. ,  8429186. ,\n",
       "                    5176362. , 26242376. ,  8747471. ,  9783168. ,\n",
       "                    1759170. ,  1283071. , 26242376. , 18030043. ,\n",
       "                    2499513. ,  2089982. , 26242376. , 12125155. ,\n",
       "                    6098470. ,  5538869. ,  7104589. ,  8022917. ,\n",
       "                    2654366. , 13443940. , 15396681. , 19374026. ,\n",
       "                   10912368. ,  4516742. ,  9915356. ,  1631810. ,\n",
       "                    3879388. ,  4146577. ,  2947007. , 26242376. ,\n",
       "                    3591330. , 26242376. , 14409515. ,  1309044. ,\n",
       "                   23488657. ,  5835133. ,  6112484. , 26242376. ,\n",
       "                    2212352. ,  7772777. ,  1297661. ,  8679893. ,\n",
       "                   26242376. ,  4141253. ,  1686499. , 14655345. ,\n",
       "                   11905941. ,  3475642. , 11664303. ,  1650621. ,\n",
       "                    5830048. ,  7197439. ,  6101185. ,  2545117. ,\n",
       "                    8164324. ,  5067546. , 26242376. ,  8826868. ,\n",
       "                   10319361. ,  1930466. ,  1300036. , 24681548. ,\n",
       "                   17459504. ,  2331770. ,  2015534. , 26242376. ,\n",
       "                   12236713. ,  6281345. ,  5667223. ,  7216175. ,\n",
       "                    8121179. ,  2650346. , 13814727. , 16114783. ,\n",
       "                   18270327. , 10848720. ,  4444064. , 10103589. ,\n",
       "                    1671053. ,  3870164. ,  4131800. ,  2976317. ,\n",
       "                   26242376. ,  3518621. , 26242376. , 12729402. ,\n",
       "                    1405349. , 22536516. ,  5878111. ,  6077498. ,\n",
       "                   26242376. ,  2282659. ,  8254462. ,  1316613. ,\n",
       "                    9008032. , 26242376. ,  4300793. ,  1817307. ,\n",
       "                   15322318. , 12242231. ,  3486366. , 11097447. ,\n",
       "                    1695967. ,  7360222. ,  2920986. ,  8230507. ,\n",
       "                    5308625. , 26242376. ,  9648297. , 11099837. ,\n",
       "                    2017075. ,  1382282. , 26242376. , 18584666. ,\n",
       "                    2703683. ,  2167967. , 26242376. , 12456571. ,\n",
       "                    6714410. ,  5991731. ,  7548871. ,  8448743. ,\n",
       "                    2739589. , 14491642. , 16985185. , 19025996. ,\n",
       "                   11684249. ,  4592343. , 10623391. ,  1804339. ,\n",
       "                    4248695. ,  4345419. ,  3093061. , 26242376. ,\n",
       "                    3789651. , 26242376. , 13146934. ,  1644533. ,\n",
       "                   24378660. ,  6121188. ,  7111710. , 26242376. ,\n",
       "                    2367068. ,  8759944. ,  1415149. ,  9455920. ,\n",
       "                   26242376. ,  4705084. ,  1996795. , 15857524. ,\n",
       "                   13709442. ,  3478401. , 11637376. ,  1962874. ,\n",
       "                   26242376. ,  7498567. ,  2494691. ,  8503034. ,\n",
       "                    5401016. , 26242376. , 10123271. , 11419673. ,\n",
       "                    2043577. ,  1329719. , 26242376. , 19403453. ,\n",
       "                    3030519. ,  2266490. , 26242376. , 12732161. ,\n",
       "                    6919477. ,  6069563. ,  7745928. ,  8397136. ,\n",
       "                    2845391. , 14409321. , 17484704. , 19416061. ,\n",
       "                   12186135. ,  4755399. , 10893231. ,  1800909. ,\n",
       "                    4398811. ,  4482886. ,  3150473. , 26242376. ,\n",
       "                    3765069. , 26242376. , 13448045. ,  1788749. ,\n",
       "                   23766529. ,  9455920. , 26242376. ,  4705084. ,\n",
       "                    1996795. , 15857524. , 13709442. ,  3478401. ,\n",
       "                   11637376. ,  1962874. ],\n",
       "             mask=False,\n",
       "       fill_value=1e+20)"
      ]
     },
     "execution_count": 16,
     "metadata": {},
     "output_type": "execute_result"
    }
   ],
   "source": [
    "from scipy.stats.mstats import winsorize\n",
    "\n",
    "winsorized2_views = winsorize(education_df[\"TOTAL_REVENUE\"], (0, 0.10))\n",
    "\n",
    "winsorized2_views"
   ]
  },
  {
   "cell_type": "code",
   "execution_count": 17,
   "metadata": {},
   "outputs": [
    {
     "data": {
      "text/plain": [
       "<Figure size 1500x500 with 2 Axes>"
      ]
     },
     "metadata": {},
     "output_type": "display_data"
    }
   ],
   "source": [
    "import matplotlib.pyplot as plt\n",
    "\n",
    "plt.figure(figsize = (15,5))\n",
    "\n",
    "plt.subplot(1,2,1)\n",
    "plt.boxplot(winsorized2_views)\n",
    "plt.title(\"Box plot Total Expenditure (whis=20)\")\n",
    "\n",
    "plt.subplot(1,2,2)\n",
    "plt.boxplot(winsorized_views)\n",
    "plt.title(\"Box plot of Total Revenue (whis=20)\")\n",
    "\n",
    "plt.show()"
   ]
  },
  {
   "cell_type": "code",
   "execution_count": 18,
   "metadata": {},
   "outputs": [],
   "source": [
    "#transform outliers"
   ]
  },
  {
   "cell_type": "code",
   "execution_count": 19,
   "metadata": {},
   "outputs": [
    {
     "data": {
      "image/png": "[encoded data removed]",
      "text/plain": [
       "<Figure size 1080x360 with 2 Axes>"
      ]
     },
     "metadata": {
      "needs_background": "light"
     },
     "output_type": "display_data"
    }
   ],
   "source": [
    "plt.figure(figsize = (15,5))\n",
    "\n",
    "plt.subplot(1,2,1)\n",
    "plt.hist(education_df[\"TOTAL_EXPENDITURE\"])\n",
    "plt.title(\"Histogram of Total Expenditure\")\n",
    "\n",
    "plt.subplot(1,2,2)\n",
    "plt.hist(np.log(education_df[\"TOTAL_EXPENDITURE\"]))\n",
    "plt.title(\"Histogram of log Total Expenditure\")\n",
    "\n",
    "plt.show()"
   ]
  },
  {
   "cell_type": "code",
   "execution_count": 20,
   "metadata": {},
   "outputs": [
    {
     "data": {
      "image/png": "[encoded data removed]",
      "text/plain": [
       "<Figure size 1080x360 with 2 Axes>"
      ]
     },
     "metadata": {
      "needs_background": "light"
     },
     "output_type": "display_data"
    }
   ],
   "source": [
    "plt.figure(figsize = (15,5))\n",
    "\n",
    "plt.subplot(1,2,1)\n",
    "plt.hist((education_df[\"TOTAL_REVENUE\"]))\n",
    "plt.title(\"Histogram of Total Revenue\")\n",
    "\n",
    "\n",
    "plt.subplot(1,2,2)\n",
    "plt.hist(np.log(education_df[\"TOTAL_REVENUE\"]))\n",
    "plt.title(\"Histogram of log Total Revenue\")\n",
    "plt.show()"
   ]
  },
  {
   "cell_type": "code",
   "execution_count": 21,
   "metadata": {},
   "outputs": [],
   "source": [
    "#Question 3"
   ]
  },
  {
   "cell_type": "code",
   "execution_count": 22,
   "metadata": {},
   "outputs": [],
   "source": [
    "budget_deficit = education_df.TOTAL_REVENUE - education_df.TOTAL_EXPENDITURE"
   ]
  },
  {
   "cell_type": "code",
   "execution_count": 23,
   "metadata": {},
   "outputs": [
    {
     "data": {
      "text/plain": [
       "Text(0.5, 1.0, 'Box plot of budget deficit')"
      ]
     },
     "execution_count": 23,
     "metadata": {},
     "output_type": "execute_result"
    },
    {
     "data": {
      "image/png": "[encoded data removed]",
      "text/plain": [
       "<Figure size 432x288 with 1 Axes>"
      ]
     },
     "metadata": {
      "needs_background": "light"
     },
     "output_type": "display_data"
    }
   ],
   "source": [
    "plt.boxplot(budget_deficit, whis = 5)\n",
    "plt.title(\"Box plot of budget deficit\")"
   ]
  },
  {
   "cell_type": "code",
   "execution_count": 24,
   "metadata": {},
   "outputs": [
    {
     "data": {
      "text/plain": [
       "masked_array(data=[-2.071700e+05, -2.482510e+05, -1.139970e+05,\n",
       "                   -2.787110e+05, -1.839620e+05,  1.477910e+05,\n",
       "                   -2.437100e+04, -2.517830e+05, -3.253100e+04,\n",
       "                   -2.614500e+04, -2.036470e+05,  6.425800e+04,\n",
       "                    2.004500e+04, -1.366880e+05, -3.498190e+05,\n",
       "                    2.036400e+04,  1.080020e+05, -7.110000e+02,\n",
       "                   -1.611630e+05, -1.604280e+05, -2.288650e+05,\n",
       "                   -2.237950e+05, -1.784350e+05,  5.162150e+04,\n",
       "                   -1.173500e+05,  8.197400e+04,  1.614550e+05,\n",
       "                    5.605110e+05,  2.787980e+05,  2.261600e+04,\n",
       "                    3.132560e+05,  4.138400e+04, -1.575500e+04,\n",
       "                   -2.848600e+04,  1.911810e+05, -1.808830e+05,\n",
       "                   -2.176600e+04, -4.988600e+04,  6.334900e+04,\n",
       "                   -2.092000e+03, -3.916440e+05, -3.334800e+04,\n",
       "                    5.316700e+04,  9.842300e+04, -1.850220e+05,\n",
       "                    2.666400e+04, -2.111370e+05,  1.021400e+04,\n",
       "                    4.178820e+05,  2.996200e+04, -2.891800e+04,\n",
       "                   -2.709740e+05, -4.666500e+05, -9.137650e+05,\n",
       "                    6.822200e+04,  1.755700e+04, -2.432500e+05,\n",
       "                   -4.120000e+02, -1.028780e+05, -1.843410e+05,\n",
       "                    3.196070e+05, -1.524000e+03,  6.597000e+04,\n",
       "                   -3.877870e+05,  2.080760e+05, -7.501100e+04,\n",
       "                    8.098000e+03, -6.303070e+05,  8.024000e+03,\n",
       "                    4.764850e+05, -4.095700e+04, -9.137650e+05,\n",
       "                   -9.137650e+05, -1.431870e+05,  2.500600e+05,\n",
       "                    1.715310e+05, -3.700100e+04,  8.488000e+03,\n",
       "                   -3.153900e+04, -2.927490e+05,  2.094340e+05,\n",
       "                   -9.137650e+05, -4.542730e+05,  5.557800e+04,\n",
       "                   -2.828800e+05, -9.277000e+03, -2.313500e+04,\n",
       "                   -2.304640e+05, -9.400200e+04, -2.789300e+04,\n",
       "                   -3.187800e+04, -9.137650e+05, -8.243500e+04,\n",
       "                   -1.236500e+04, -7.414600e+05,  5.033300e+04,\n",
       "                   -3.867450e+05, -8.149140e+05,  8.181700e+04,\n",
       "                   -3.150400e+05, -2.804500e+04, -4.879150e+05,\n",
       "                   -9.137650e+05, -8.225200e+04,  1.021000e+04,\n",
       "                   -2.425120e+05, -2.367510e+05, -2.673700e+04,\n",
       "                   -1.967820e+05,  4.672500e+04, -1.469800e+04,\n",
       "                   -1.519790e+05,  4.133150e+05, -2.136800e+04,\n",
       "                   -9.137650e+05, -3.739840e+05,  4.466370e+05,\n",
       "                   -4.844700e+04,  2.394700e+04, -6.406080e+05,\n",
       "                    2.320650e+05,  5.083610e+05, -2.348400e+04,\n",
       "                   -4.243890e+05,  5.605110e+05,  3.857600e+04,\n",
       "                    1.470350e+05, -3.063620e+05,  3.351300e+04,\n",
       "                   -3.490000e+02,  1.235540e+05,  2.499960e+05,\n",
       "                   -9.137650e+05, -3.052300e+05,  2.873900e+04,\n",
       "                    1.699000e+05,  2.474200e+04,  1.868640e+05,\n",
       "                   -1.018940e+05, -5.690000e+02,  2.969000e+03,\n",
       "                   -2.870500e+04, -9.137650e+05,  1.802520e+05,\n",
       "                   -1.598200e+04, -3.932200e+04,  1.065610e+05,\n",
       "                   -5.755290e+05, -5.261420e+05,  1.128810e+05,\n",
       "                   -2.344800e+05, -5.799000e+03, -2.612590e+05,\n",
       "                   -9.137650e+05, -6.739000e+03, -5.853000e+03,\n",
       "                   -2.025000e+05, -2.582200e+05,  2.353000e+03,\n",
       "                    1.506060e+05,  9.855700e+04, -1.274190e+05,\n",
       "                   -1.381390e+05,  1.490300e+04, -3.633270e+05,\n",
       "                   -7.084860e+05, -3.501320e+05,  2.277280e+05,\n",
       "                   -1.027500e+04,  7.852000e+03, -9.137650e+05,\n",
       "                    3.664590e+05,  5.605110e+05,  5.147900e+04,\n",
       "                    4.952360e+05, -9.137650e+05, -4.439000e+03,\n",
       "                    2.141690e+05, -1.249400e+05,  3.913910e+05,\n",
       "                    3.703400e+04,  1.337400e+05,  9.225900e+04,\n",
       "                    5.605110e+05, -3.365960e+05,  6.219300e+04,\n",
       "                   -3.366810e+05,  3.187200e+04,  1.160830e+05,\n",
       "                   -3.402900e+05, -8.067000e+03, -2.790360e+05,\n",
       "                   -6.514000e+03, -4.914400e+05,  2.692210e+05,\n",
       "                    3.503000e+03,  5.605110e+05, -1.328200e+04,\n",
       "                    1.363100e+04, -2.925060e+05,  1.834700e+04,\n",
       "                   -5.307210e+05,  4.000200e+04, -2.001710e+05,\n",
       "                   -9.137650e+05,  3.755000e+04,  3.179700e+04,\n",
       "                   -5.244680e+05, -3.316490e+05, -7.777800e+04,\n",
       "                    1.661070e+05,  8.754700e+04, -6.290770e+05,\n",
       "                   -2.374420e+05, -7.778780e+05, -2.642100e+05,\n",
       "                   -8.071900e+05, -3.718160e+05,  3.582150e+05,\n",
       "                   -7.925100e+04, -4.354000e+03, -4.354000e+03,\n",
       "                   -9.137650e+05, -9.137650e+05,  3.710870e+05,\n",
       "                    1.038270e+05, -7.287610e+05,  5.605110e+05,\n",
       "                    1.330000e+02, -2.125430e+05, -1.240840e+05,\n",
       "                   -6.941000e+04, -1.377000e+03,  3.903320e+05,\n",
       "                    1.232080e+05, -3.758850e+05, -8.398560e+05,\n",
       "                   -1.606550e+05, -7.547850e+05, -1.455000e+04,\n",
       "                   -1.322000e+03,  1.775500e+03, -1.357800e+05,\n",
       "                    5.876100e+04,  3.650790e+05, -2.420380e+05,\n",
       "                   -9.137650e+05,  5.424940e+05,  1.288200e+04,\n",
       "                    3.518630e+05,  8.800800e+04, -5.562550e+05,\n",
       "                   -5.730950e+05,  8.338000e+03, -7.576580e+05,\n",
       "                   -1.465100e+04, -4.982830e+05, -9.137650e+05,\n",
       "                   -1.808070e+05,  2.201500e+04, -2.588370e+05,\n",
       "                   -2.156200e+05, -2.451600e+04,  1.106010e+05,\n",
       "                    1.760500e+04, -3.504300e+04, -8.607000e+04,\n",
       "                   -1.812310e+05, -4.930690e+05,  5.605110e+05,\n",
       "                    7.102000e+04,  3.439860e+05, -4.973500e+04,\n",
       "                   -1.410400e+04, -5.382530e+05,  5.605110e+05,\n",
       "                    2.404090e+05,  1.291640e+05,  5.605110e+05,\n",
       "                    5.605110e+05,  4.117600e+04, -1.232770e+05,\n",
       "                   -1.492610e+05, -1.959530e+05, -7.416900e+04,\n",
       "                    1.962430e+05,  2.457830e+05,  5.605110e+05,\n",
       "                    2.998880e+05,  1.709590e+05,  7.285100e+04,\n",
       "                   -2.377400e+04,  2.030620e+05, -1.122780e+05,\n",
       "                   -5.423700e+04,  5.260780e+05, -1.031070e+05,\n",
       "                   -9.137650e+05,  5.605110e+05, -3.182000e+03,\n",
       "                    4.782610e+05,  1.901450e+05, -2.051510e+05,\n",
       "                   -3.182110e+05,  1.341200e+04, -1.886710e+05,\n",
       "                   -5.295600e+04, -2.815500e+05, -9.137650e+05,\n",
       "                   -5.466300e+04, -3.601600e+04, -2.047000e+04,\n",
       "                   -2.246700e+04, -1.944770e+05,  2.235850e+05,\n",
       "                   -6.229000e+03,  2.101205e+05, -2.903020e+05,\n",
       "                   -1.699595e+05, -1.208160e+05,  5.605110e+05,\n",
       "                   -1.587930e+05, -8.586030e+05,  1.277430e+05,\n",
       "                    5.605110e+05,  5.840000e+03, -8.402000e+03,\n",
       "                   -5.638520e+05,  1.420000e+05, -1.414700e+04,\n",
       "                    4.785800e+04,  5.400550e+05,  5.605110e+05,\n",
       "                   -3.689600e+04,  4.620000e+04, -1.977210e+05,\n",
       "                    1.802990e+05,  1.149410e+05,  5.300900e+05,\n",
       "                   -8.712200e+04,  5.605110e+05, -9.329900e+04,\n",
       "                    7.401400e+04,  1.018260e+05, -8.468000e+03,\n",
       "                   -4.287400e+04,  7.435700e+04,  9.778300e+04,\n",
       "                   -1.098040e+05, -1.792500e+04, -8.820320e+05,\n",
       "                   -9.137650e+05, -1.112260e+05,  5.207190e+05,\n",
       "                    8.116600e+04, -1.506990e+05, -1.047300e+04,\n",
       "                    5.124600e+04,  2.966700e+04, -1.588300e+04,\n",
       "                   -2.402030e+05, -9.137650e+05, -2.838310e+05,\n",
       "                    8.169000e+03, -3.126000e+05,  1.446820e+05,\n",
       "                   -2.511000e+03,  2.523880e+05,  2.049000e+04,\n",
       "                   -1.415770e+05, -4.735500e+04,  3.279070e+05,\n",
       "                   -4.191800e+04, -1.179160e+05,  9.061500e+04,\n",
       "                    5.571700e+05,  4.198200e+04,  2.134000e+04,\n",
       "                   -3.055580e+05,  8.356300e+04,  1.826790e+05,\n",
       "                    1.384470e+05, -3.132010e+05,  5.605110e+05,\n",
       "                   -5.824400e+04, -1.839930e+05, -6.016000e+03,\n",
       "                    1.148000e+04,  1.434090e+05,  5.605110e+05,\n",
       "                    1.286600e+04,  5.605110e+05, -2.856230e+05,\n",
       "                   -3.219600e+04,  8.303800e+04, -5.020000e+02,\n",
       "                   -3.515100e+04,  1.623340e+05,  4.834100e+04,\n",
       "                    5.255120e+05, -5.699000e+04, -9.137650e+05,\n",
       "                   -9.137650e+05, -1.602290e+05,  5.605110e+05,\n",
       "                   -6.363100e+04,  1.001010e+05,  2.765400e+05,\n",
       "                    4.059500e+04, -2.341800e+04, -4.963200e+04,\n",
       "                   -1.066070e+05, -6.737620e+05,  1.671220e+05,\n",
       "                    2.738000e+04, -2.556880e+05,  7.930400e+04,\n",
       "                    1.142000e+04,  8.369900e+04,  2.046800e+04,\n",
       "                    2.765400e+05, -2.102780e+05, -1.283230e+05,\n",
       "                    5.160230e+05, -3.317700e+04,  5.605110e+05,\n",
       "                    2.447470e+05,  5.605110e+05,  1.625000e+03,\n",
       "                    7.156000e+03,  1.804820e+05,  2.450650e+05,\n",
       "                    2.974250e+05,  1.655100e+05, -1.282860e+05,\n",
       "                    5.605110e+05, -5.293500e+04, -6.527300e+04,\n",
       "                   -4.035300e+04,  1.484760e+05,  1.392880e+05,\n",
       "                    4.171300e+05,  4.468240e+05,  5.605110e+05,\n",
       "                   -6.628110e+05,  1.240430e+05,  1.733490e+05,\n",
       "                   -7.888000e+04, -2.416110e+05,  1.086370e+05,\n",
       "                    2.569500e+04,  3.471900e+05,  3.567200e+04,\n",
       "                   -9.137650e+05, -7.593440e+05, -1.748810e+05,\n",
       "                    4.140130e+05, -1.066070e+05, -6.737620e+05,\n",
       "                    1.671220e+05,  2.738000e+04, -2.556880e+05,\n",
       "                    7.930400e+04,  1.142000e+04,  8.369900e+04,\n",
       "                    2.046800e+04],\n",
       "             mask=False,\n",
       "       fill_value=1e+20)"
      ]
     },
     "execution_count": 24,
     "metadata": {},
     "output_type": "execute_result"
    }
   ],
   "source": [
    "winsorized_budget = winsorize(budget_deficit, (0.05, 0.05))\n",
    "\n",
    "winsorized_budget"
   ]
  },
  {
   "cell_type": "code",
   "execution_count": 25,
   "metadata": {},
   "outputs": [
    {
     "data": {
      "text/plain": [
       "Text(0.5, 1.0, 'Box plot of Budget Deficit')"
      ]
     },
     "execution_count": 25,
     "metadata": {},
     "output_type": "execute_result"
    },
    {
     "data": {
      "image/png": "[encoded data removed]",
      "text/plain": [
       "<Figure size 432x288 with 1 Axes>"
      ]
     },
     "metadata": {
      "needs_background": "light"
     },
     "output_type": "display_data"
    }
   ],
   "source": [
    "plt.boxplot(winsorized_budget, whis=5)\n",
    "plt.title(\"Box plot of Budget Deficit\")"
   ]
  },
  {
   "cell_type": "code",
   "execution_count": 26,
   "metadata": {},
   "outputs": [],
   "source": [
    "#Question 4"
   ]
  },
  {
   "cell_type": "code",
   "execution_count": 27,
   "metadata": {},
   "outputs": [],
   "source": [
    "budget_deficit2 = education_df.TOTAL_EXPENDITURE - education_df.TOTAL_REVENUE"
   ]
  },
  {
   "cell_type": "code",
   "execution_count": 28,
   "metadata": {},
   "outputs": [
    {
     "data": {
      "text/plain": [
       "Text(0.5, 1.0, 'Box plot of budget deficit2')"
      ]
     },
     "execution_count": 28,
     "metadata": {},
     "output_type": "execute_result"
    },
    {
     "data": {
      "image/png": "[encoded data removed]",
      "text/plain": [
       "<Figure size 432x288 with 1 Axes>"
      ]
     },
     "metadata": {
      "needs_background": "light"
     },
     "output_type": "display_data"
    }
   ],
   "source": [
    "plt.boxplot(budget_deficit2, whis = 5)\n",
    "plt.title(\"Box plot of budget deficit2\")"
   ]
  },
  {
   "cell_type": "code",
   "execution_count": null,
   "metadata": {},
   "outputs": [],
   "source": [
    "#Yes, there are outliers"
   ]
  },
  {
   "cell_type": "code",
   "execution_count": 31,
   "metadata": {},
   "outputs": [
    {
     "data": {
      "text/plain": [
       "masked_array(data=[ 2.071700e+05,  2.482510e+05,  1.139970e+05,\n",
       "                    2.787110e+05,  1.839620e+05, -1.477910e+05,\n",
       "                    2.437100e+04,  2.517830e+05,  3.253100e+04,\n",
       "                    2.614500e+04,  2.036470e+05, -6.425800e+04,\n",
       "                   -2.004500e+04,  1.366880e+05,  3.498190e+05,\n",
       "                   -2.036400e+04, -1.080020e+05,  7.110000e+02,\n",
       "                    1.611630e+05,  1.604280e+05,  2.288650e+05,\n",
       "                    2.237950e+05,  1.784350e+05, -5.162150e+04,\n",
       "                    1.173500e+05, -8.197400e+04, -1.614550e+05,\n",
       "                   -5.605110e+05, -2.787980e+05, -2.261600e+04,\n",
       "                   -3.132560e+05, -4.138400e+04,  1.575500e+04,\n",
       "                    2.848600e+04, -1.911810e+05,  1.808830e+05,\n",
       "                    2.176600e+04,  4.988600e+04, -6.334900e+04,\n",
       "                    2.092000e+03,  3.916440e+05,  3.334800e+04,\n",
       "                   -5.316700e+04, -9.842300e+04,  1.850220e+05,\n",
       "                   -2.666400e+04,  2.111370e+05, -1.021400e+04,\n",
       "                   -4.178820e+05, -2.996200e+04,  2.891800e+04,\n",
       "                    2.709740e+05,  4.666500e+05,  9.137650e+05,\n",
       "                   -6.822200e+04, -1.755700e+04,  2.432500e+05,\n",
       "                    4.120000e+02,  1.028780e+05,  1.843410e+05,\n",
       "                   -3.196070e+05,  1.524000e+03, -6.597000e+04,\n",
       "                    3.877870e+05, -2.080760e+05,  7.501100e+04,\n",
       "                   -8.098000e+03,  6.303070e+05, -8.024000e+03,\n",
       "                   -4.764850e+05,  4.095700e+04,  9.137650e+05,\n",
       "                    9.137650e+05,  1.431870e+05, -2.500600e+05,\n",
       "                   -1.715310e+05,  3.700100e+04, -8.488000e+03,\n",
       "                    3.153900e+04,  2.927490e+05, -2.094340e+05,\n",
       "                    9.137650e+05,  4.542730e+05, -5.557800e+04,\n",
       "                    2.828800e+05,  9.277000e+03,  2.313500e+04,\n",
       "                    2.304640e+05,  9.400200e+04,  2.789300e+04,\n",
       "                    3.187800e+04,  9.137650e+05,  8.243500e+04,\n",
       "                    1.236500e+04,  7.414600e+05, -5.033300e+04,\n",
       "                    3.867450e+05,  8.149140e+05, -8.181700e+04,\n",
       "                    3.150400e+05,  2.804500e+04,  4.879150e+05,\n",
       "                    9.137650e+05,  8.225200e+04, -1.021000e+04,\n",
       "                    2.425120e+05,  2.367510e+05,  2.673700e+04,\n",
       "                    1.967820e+05, -4.672500e+04,  1.469800e+04,\n",
       "                    1.519790e+05, -4.133150e+05,  2.136800e+04,\n",
       "                    9.137650e+05,  3.739840e+05, -4.466370e+05,\n",
       "                    4.844700e+04, -2.394700e+04,  6.406080e+05,\n",
       "                   -2.320650e+05, -5.083610e+05,  2.348400e+04,\n",
       "                    4.243890e+05, -5.605110e+05, -3.857600e+04,\n",
       "                   -1.470350e+05,  3.063620e+05, -3.351300e+04,\n",
       "                    3.490000e+02, -1.235540e+05, -2.499960e+05,\n",
       "                    9.137650e+05,  3.052300e+05, -2.873900e+04,\n",
       "                   -1.699000e+05, -2.474200e+04, -1.868640e+05,\n",
       "                    1.018940e+05,  5.690000e+02, -2.969000e+03,\n",
       "                    2.870500e+04,  9.137650e+05, -1.802520e+05,\n",
       "                    1.598200e+04,  3.932200e+04, -1.065610e+05,\n",
       "                    5.755290e+05,  5.261420e+05, -1.128810e+05,\n",
       "                    2.344800e+05,  5.799000e+03,  2.612590e+05,\n",
       "                    9.137650e+05,  6.739000e+03,  5.853000e+03,\n",
       "                    2.025000e+05,  2.582200e+05, -2.353000e+03,\n",
       "                   -1.506060e+05, -9.855700e+04,  1.274190e+05,\n",
       "                    1.381390e+05, -1.490300e+04,  3.633270e+05,\n",
       "                    7.084860e+05,  3.501320e+05, -2.277280e+05,\n",
       "                    1.027500e+04, -7.852000e+03,  9.137650e+05,\n",
       "                   -3.664590e+05, -5.605110e+05, -5.147900e+04,\n",
       "                   -4.952360e+05,  9.137650e+05,  4.439000e+03,\n",
       "                   -2.141690e+05,  1.249400e+05, -3.913910e+05,\n",
       "                   -3.703400e+04, -1.337400e+05, -9.225900e+04,\n",
       "                   -5.605110e+05,  3.365960e+05, -6.219300e+04,\n",
       "                    3.366810e+05, -3.187200e+04, -1.160830e+05,\n",
       "                    3.402900e+05,  8.067000e+03,  2.790360e+05,\n",
       "                    6.514000e+03,  4.914400e+05, -2.692210e+05,\n",
       "                   -3.503000e+03, -5.605110e+05,  1.328200e+04,\n",
       "                   -1.363100e+04,  2.925060e+05, -1.834700e+04,\n",
       "                    5.307210e+05, -4.000200e+04,  2.001710e+05,\n",
       "                    9.137650e+05, -3.755000e+04, -3.179700e+04,\n",
       "                    5.244680e+05,  3.316490e+05,  7.777800e+04,\n",
       "                   -1.661070e+05, -8.754700e+04,  6.290770e+05,\n",
       "                    2.374420e+05,  7.778780e+05,  2.642100e+05,\n",
       "                    8.071900e+05,  3.718160e+05, -3.582150e+05,\n",
       "                    7.925100e+04,  4.354000e+03,  4.354000e+03,\n",
       "                    9.137650e+05,  9.137650e+05, -3.710870e+05,\n",
       "                   -1.038270e+05,  7.287610e+05, -5.605110e+05,\n",
       "                   -1.330000e+02,  2.125430e+05,  1.240840e+05,\n",
       "                    6.941000e+04,  1.377000e+03, -3.903320e+05,\n",
       "                   -1.232080e+05,  3.758850e+05,  8.398560e+05,\n",
       "                    1.606550e+05,  7.547850e+05,  1.455000e+04,\n",
       "                    1.322000e+03, -1.775500e+03,  1.357800e+05,\n",
       "                   -5.876100e+04, -3.650790e+05,  2.420380e+05,\n",
       "                    9.137650e+05, -5.424940e+05, -1.288200e+04,\n",
       "                   -3.518630e+05, -8.800800e+04,  5.562550e+05,\n",
       "                    5.730950e+05, -8.338000e+03,  7.576580e+05,\n",
       "                    1.465100e+04,  4.982830e+05,  9.137650e+05,\n",
       "                    1.808070e+05, -2.201500e+04,  2.588370e+05,\n",
       "                    2.156200e+05,  2.451600e+04, -1.106010e+05,\n",
       "                   -1.760500e+04,  3.504300e+04,  8.607000e+04,\n",
       "                    1.812310e+05,  4.930690e+05, -5.605110e+05,\n",
       "                   -7.102000e+04, -3.439860e+05,  4.973500e+04,\n",
       "                    1.410400e+04,  5.382530e+05, -5.605110e+05,\n",
       "                   -2.404090e+05, -1.291640e+05, -5.605110e+05,\n",
       "                   -5.605110e+05, -4.117600e+04,  1.232770e+05,\n",
       "                    1.492610e+05,  1.959530e+05,  7.416900e+04,\n",
       "                   -1.962430e+05, -2.457830e+05, -5.605110e+05,\n",
       "                   -2.998880e+05, -1.709590e+05, -7.285100e+04,\n",
       "                    2.377400e+04, -2.030620e+05,  1.122780e+05,\n",
       "                    5.423700e+04, -5.260780e+05,  1.031070e+05,\n",
       "                    9.137650e+05, -5.605110e+05,  3.182000e+03,\n",
       "                   -4.782610e+05, -1.901450e+05,  2.051510e+05,\n",
       "                    3.182110e+05, -1.341200e+04,  1.886710e+05,\n",
       "                    5.295600e+04,  2.815500e+05,  9.137650e+05,\n",
       "                    5.466300e+04,  3.601600e+04,  2.047000e+04,\n",
       "                    2.246700e+04,  1.944770e+05, -2.235850e+05,\n",
       "                    6.229000e+03, -2.101205e+05,  2.903020e+05,\n",
       "                    1.699595e+05,  1.208160e+05, -5.605110e+05,\n",
       "                    1.587930e+05,  8.586030e+05, -1.277430e+05,\n",
       "                   -5.605110e+05, -5.840000e+03,  8.402000e+03,\n",
       "                    5.638520e+05, -1.420000e+05,  1.414700e+04,\n",
       "                   -4.785800e+04, -5.400550e+05, -5.605110e+05,\n",
       "                    3.689600e+04, -4.620000e+04,  1.977210e+05,\n",
       "                   -1.802990e+05, -1.149410e+05, -5.300900e+05,\n",
       "                    8.712200e+04, -5.605110e+05,  9.329900e+04,\n",
       "                   -7.401400e+04, -1.018260e+05,  8.468000e+03,\n",
       "                    4.287400e+04, -7.435700e+04, -9.778300e+04,\n",
       "                    1.098040e+05,  1.792500e+04,  8.820320e+05,\n",
       "                    9.137650e+05,  1.112260e+05, -5.207190e+05,\n",
       "                   -8.116600e+04,  1.506990e+05,  1.047300e+04,\n",
       "                   -5.124600e+04, -2.966700e+04,  1.588300e+04,\n",
       "                    2.402030e+05,  9.137650e+05,  2.838310e+05,\n",
       "                   -8.169000e+03,  3.126000e+05, -1.446820e+05,\n",
       "                    2.511000e+03, -2.523880e+05, -2.049000e+04,\n",
       "                    1.415770e+05,  4.735500e+04, -3.279070e+05,\n",
       "                    4.191800e+04,  1.179160e+05, -9.061500e+04,\n",
       "                   -5.571700e+05, -4.198200e+04, -2.134000e+04,\n",
       "                    3.055580e+05, -8.356300e+04, -1.826790e+05,\n",
       "                   -1.384470e+05,  3.132010e+05, -5.605110e+05,\n",
       "                    5.824400e+04,  1.839930e+05,  6.016000e+03,\n",
       "                   -1.148000e+04, -1.434090e+05, -5.605110e+05,\n",
       "                   -1.286600e+04, -5.605110e+05,  2.856230e+05,\n",
       "                    3.219600e+04, -8.303800e+04,  5.020000e+02,\n",
       "                    3.515100e+04, -1.623340e+05, -4.834100e+04,\n",
       "                   -5.255120e+05,  5.699000e+04,  9.137650e+05,\n",
       "                    9.137650e+05,  1.602290e+05, -5.605110e+05,\n",
       "                    6.363100e+04, -1.001010e+05, -2.765400e+05,\n",
       "                   -4.059500e+04,  2.341800e+04,  4.963200e+04,\n",
       "                    1.066070e+05,  6.737620e+05, -1.671220e+05,\n",
       "                   -2.738000e+04,  2.556880e+05, -7.930400e+04,\n",
       "                   -1.142000e+04, -8.369900e+04, -2.046800e+04,\n",
       "                   -2.765400e+05,  2.102780e+05,  1.283230e+05,\n",
       "                   -5.160230e+05,  3.317700e+04, -5.605110e+05,\n",
       "                   -2.447470e+05, -5.605110e+05, -1.625000e+03,\n",
       "                   -7.156000e+03, -1.804820e+05, -2.450650e+05,\n",
       "                   -2.974250e+05, -1.655100e+05,  1.282860e+05,\n",
       "                   -5.605110e+05,  5.293500e+04,  6.527300e+04,\n",
       "                    4.035300e+04, -1.484760e+05, -1.392880e+05,\n",
       "                   -4.171300e+05, -4.468240e+05, -5.605110e+05,\n",
       "                    6.628110e+05, -1.240430e+05, -1.733490e+05,\n",
       "                    7.888000e+04,  2.416110e+05, -1.086370e+05,\n",
       "                   -2.569500e+04, -3.471900e+05, -3.567200e+04,\n",
       "                    9.137650e+05,  7.593440e+05,  1.748810e+05,\n",
       "                   -4.140130e+05,  1.066070e+05,  6.737620e+05,\n",
       "                   -1.671220e+05, -2.738000e+04,  2.556880e+05,\n",
       "                   -7.930400e+04, -1.142000e+04, -8.369900e+04,\n",
       "                   -2.046800e+04],\n",
       "             mask=False,\n",
       "       fill_value=1e+20)"
      ]
     },
     "execution_count": 31,
     "metadata": {},
     "output_type": "execute_result"
    }
   ],
   "source": [
    "winsorized_budget2 = winsorize(budget_deficit2, (0.05, 0.05))\n",
    "\n",
    "winsorized_budget"
   ]
  },
  {
   "cell_type": "code",
   "execution_count": 32,
   "metadata": {},
   "outputs": [
    {
     "data": {
      "text/plain": [
       "Text(0.5, 1.0, 'Box plot of Budget Deficit')"
      ]
     },
     "execution_count": 32,
     "metadata": {},
     "output_type": "execute_result"
    },
    {
     "data": {
      "image/png": "[encoded data removed]",
      "text/plain": [
       "<Figure size 432x288 with 1 Axes>"
      ]
     },
     "metadata": {
      "needs_background": "light"
     },
     "output_type": "display_data"
    }
   ],
   "source": [
    "plt.boxplot(winsorized_budget2, whis=5)\n",
    "plt.title(\"Box plot of Budget Deficit\")"
   ]
  },
  {
   "cell_type": "code",
   "execution_count": null,
   "metadata": {},
   "outputs": [],
   "source": [
    "#Question 5"
   ]
  },
  {
   "cell_type": "code",
   "execution_count": null,
   "metadata": {},
   "outputs": [],
   "source": [
    "##Differences: range is greater with the Deficit Budget 2, the Mean seems to be similar for both, but the 25th and 75th quartiles are smaller in the Budget deficit 1."
   ]
  },
  {
   "cell_type": "code",
   "execution_count": null,
   "metadata": {},
   "outputs": [],
   "source": [
    "#Question 6"
   ]
  },
  {
   "cell_type": "code",
   "execution_count": null,
   "metadata": {},
   "outputs": [],
   "source": [
    "##The third question would be most desirable becuase it's differences is truer to identifying the deficit."
   ]
  }
 ],
 "metadata": {
  "kernelspec": {
   "display_name": "Python 3",
   "language": "python",
   "name": "python3"
  },
  "language_info": {
   "codemirror_mode": {
    "name": "ipython",
    "version": 3
   },
   "file_extension": ".py",
   "mimetype": "text/x-python",
   "name": "python",
   "nbconvert_exporter": "python",
   "pygments_lexer": "ipython3",
   "version": "3.7.3"
  }
 },
 "nbformat": 4,
 "nbformat_minor": 2
}
