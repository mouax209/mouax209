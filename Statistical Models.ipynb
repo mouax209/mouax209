{
 "cells": [
  {
   "cell_type": "code",
   "execution_count": null,
   "metadata": {},
   "outputs": [],
   "source": [
    "#Q1 - Coin toss model"
   ]
  },
  {
   "cell_type": "code",
   "execution_count": null,
   "metadata": {},
   "outputs": [],
   "source": [
    "#Important features: \n",
    "#Which coin is being used (e.g. quarter, dime?), \n",
    "#Which finger is flipping the coin\n",
    "#Strength/power of the flip \n",
    "#Which side the coin faces in the beginning \n",
    "#Angling of the coin \n",
    "\n",
    "##Too man features could be unproductive in predicting if the coin will face heads/tails\n"
   ]
  },
  {
   "cell_type": "code",
   "execution_count": 1,
   "metadata": {},
   "outputs": [],
   "source": [
    "#Q2 - Netflix\n",
    "\n",
    "##Their features include: \n",
    "##user's interactions on their service\n",
    "##Other members with similar tastes and preferences \n",
    "##Information about the titles\n",
    "##Time of the day user watches\n",
    "##Device the user is using to watch Netflix\n",
    "##How long user is watching \n",
    "\n",
    "\n",
    "###Other features\n",
    "###Type of Actors/Actresses user watches \n",
    "###Demographics: language, age range (e.g. young adult movies)\n",
    "###Genre preferences "
   ]
  },
  {
   "cell_type": "code",
   "execution_count": null,
   "metadata": {},
   "outputs": [],
   "source": []
  }
 ],
 "metadata": {
  "kernelspec": {
   "display_name": "Python 3",
   "language": "python",
   "name": "python3"
  },
  "language_info": {
   "codemirror_mode": {
    "name": "ipython",
    "version": 3
   },
   "file_extension": ".py",
   "mimetype": "text/x-python",
   "name": "python",
   "nbconvert_exporter": "python",
   "pygments_lexer": "ipython3",
   "version": "3.7.3"
  }
 },
 "nbformat": 4,
 "nbformat_minor": 2
}
