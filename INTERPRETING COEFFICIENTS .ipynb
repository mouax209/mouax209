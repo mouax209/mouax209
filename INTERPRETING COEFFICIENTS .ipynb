{
 "cells": [
  {
   "cell_type": "code",
   "execution_count": 14,
   "metadata": {},
   "outputs": [],
   "source": [
    "#No. 1: interpretation and significance"
   ]
  },
  {
   "cell_type": "code",
   "execution_count": 15,
   "metadata": {},
   "outputs": [],
   "source": [
    "#In order to make sure the interpretations make sense statistically, \n",
    "#we should look at the p-values and t-values, these values can help \n",
    "#us to see whether the coefficents are statistically significant. "
   ]
  },
  {
   "cell_type": "code",
   "execution_count": 16,
   "metadata": {},
   "outputs": [],
   "source": [
    "import matplotlib.pyplot as plt\n",
    "import numpy as np\n",
    "import pandas as pd\n",
    "from sklearn import linear_model\n",
    "import statsmodels.api as sm\n",
    "from sqlalchemy import create_engine\n",
    "\n",
    "# Display preferences.\n",
    "%matplotlib inline\n",
    "pd.options.display.float_format = '{:.3f}'.format\n",
    "\n",
    "import warnings\n",
    "warnings.filterwarnings(action=\"ignore\")\n",
    "\n",
    "postgres_user = 'dsbc_student'\n",
    "postgres_pw = '7*.8G9QH21'\n",
    "postgres_host = '142.93.121.174'\n",
    "postgres_port = '5432'\n",
    "postgres_db = 'weatherinszeged'\n",
    "\n",
    "engine = create_engine('postgresql://{}:{}@{}:{}/{}'.format(\n",
    "    postgres_user, postgres_pw, postgres_host, postgres_port, postgres_db))\n",
    "\n",
    "weather_df = pd.read_sql_query('select * from weatherinszeged',con=engine)\n",
    "\n",
    "# no need for an open connection, as we're only doing a single query\n",
    "engine.dispose()"
   ]
  },
  {
   "cell_type": "code",
   "execution_count": 17,
   "metadata": {},
   "outputs": [
    {
     "name": "stdout",
     "output_type": "stream",
     "text": [
      "                            OLS Regression Results                            \n",
      "==============================================================================\n",
      "Dep. Variable:                      y   R-squared:                       0.288\n",
      "Model:                            OLS   Adj. R-squared:                  0.288\n",
      "Method:                 Least Squares   F-statistic:                 1.949e+04\n",
      "Date:                Mon, 20 Jan 2020   Prob (F-statistic):               0.00\n",
      "Time:                        18:00:03   Log-Likelihood:            -1.7046e+05\n",
      "No. Observations:               96453   AIC:                         3.409e+05\n",
      "Df Residuals:                   96450   BIC:                         3.409e+05\n",
      "Df Model:                           2                                         \n",
      "Covariance Type:            nonrobust                                         \n",
      "==============================================================================\n",
      "                 coef    std err          t      P>|t|      [0.025      0.975]\n",
      "------------------------------------------------------------------------------\n",
      "const          2.4381      0.021    115.948      0.000       2.397       2.479\n",
      "humidity      -3.0292      0.024   -126.479      0.000      -3.076      -2.982\n",
      "windspeed     -0.1193      0.001   -176.164      0.000      -0.121      -0.118\n",
      "==============================================================================\n",
      "Omnibus:                     3935.747   Durbin-Watson:                   0.267\n",
      "Prob(Omnibus):                  0.000   Jarque-Bera (JB):             4613.311\n",
      "Skew:                          -0.478   Prob(JB):                         0.00\n",
      "Kurtosis:                       3.484   Cond. No.                         88.1\n",
      "==============================================================================\n",
      "\n",
      "Warnings:\n",
      "[1] Standard Errors assume that the covariance matrix of the errors is correctly specified.\n"
     ]
    }
   ],
   "source": [
    "# Y is the target variable\n",
    "Y = weather_df['apparenttemperature'] - weather_df['temperature']\n",
    "\n",
    "# X is the feature set\n",
    "X = weather_df[['humidity','windspeed']]\n",
    "\n",
    "# We add constant to the model as it's a best practice\n",
    "# to do so every time!\n",
    "X = sm.add_constant(X)\n",
    "\n",
    "# We fit an OLS model using statsmodels\n",
    "results = sm.OLS(Y, X).fit()\n",
    "\n",
    "# We print the summary results.\n",
    "print(results.summary())"
   ]
  },
  {
   "cell_type": "code",
   "execution_count": 18,
   "metadata": {},
   "outputs": [
    {
     "data": {
      "image/png": "[encoded data removed]",
      "text/plain": [
       "<Figure size 432x288 with 1 Axes>"
      ]
     },
     "metadata": {
      "needs_background": "light"
     },
     "output_type": "display_data"
    }
   ],
   "source": [
    "humidity_temp = weather_df.temperature * -3.0292\n",
    "windspeed_temp = weather_df.temperature * -0.1193\n",
    "\n",
    "plt.plot(weather_df.temperature, humidity_temp)\n",
    "plt.plot(weather_df.temperature, windspeed_temp)\n",
    "plt.legend([\"humidity and temp\", \"windspeed and temp\"])\n",
    "plt.xlabel(\"Weather\")\n",
    "plt.ylabel(\"Temp\")\n",
    "plt.title(\"The relationship between bmi, smoking and costs\")\n",
    "\n",
    "plt.show()"
   ]
  },
  {
   "cell_type": "code",
   "execution_count": 19,
   "metadata": {},
   "outputs": [],
   "source": [
    "#estimated model is: \n",
    "    #diff_apptemp_n_temp = 2.4381-3.0292(humidity)-0.1193(windspeed)\n",
    "\n",
    "    #They're all statistically significant (ss) because their P-values are less than 0.1\n",
    "    #The signs on each coefficientS are as I expected, with apparent temps, humidity and windspeed \n",
    "    #aren't always factored into what is 'apparent' but it is so in the actual temp\n",
    "    #interpretation of coeffs: As windspeed increases by one, the difference between the \n",
    "    #apparent temp and the temp will decline by 0.1193 on average. As humidity increases by 1, \n",
    "    #the difference between the apparent temp and the temp will decrease by 3.0292 degrees.\n",
    "    "
   ]
  },
  {
   "cell_type": "code",
   "execution_count": 23,
   "metadata": {},
   "outputs": [
    {
     "name": "stdout",
     "output_type": "stream",
     "text": [
      "                            OLS Regression Results                            \n",
      "==============================================================================\n",
      "Dep. Variable:                      y   R-squared:                       0.341\n",
      "Model:                            OLS   Adj. R-squared:                  0.341\n",
      "Method:                 Least Squares   F-statistic:                 2.497e+04\n",
      "Date:                Mon, 20 Jan 2020   Prob (F-statistic):               0.00\n",
      "Time:                        18:05:05   Log-Likelihood:            -1.6670e+05\n",
      "No. Observations:               96453   AIC:                         3.334e+05\n",
      "Df Residuals:                   96450   BIC:                         3.334e+05\n",
      "Df Model:                           2                                         \n",
      "Covariance Type:            nonrobust                                         \n",
      "==============================================================================\n",
      "                 coef    std err          t      P>|t|      [0.025      0.975]\n",
      "------------------------------------------------------------------------------\n",
      "const          0.2178      0.008     26.385      0.000       0.202       0.234\n",
      "humidity      -0.2854      0.002   -158.432      0.000      -0.289      -0.282\n",
      "windspeed      0.0819      0.001     62.418      0.000       0.079       0.084\n",
      "==============================================================================\n",
      "Omnibus:                     4795.516   Durbin-Watson:                   0.265\n",
      "Prob(Omnibus):                  0.000   Jarque-Bera (JB):             9042.719\n",
      "Skew:                          -0.379   Prob(JB):                         0.00\n",
      "Kurtosis:                       4.295   Cond. No.                         29.5\n",
      "==============================================================================\n",
      "\n",
      "Warnings:\n",
      "[1] Standard Errors assume that the covariance matrix of the errors is correctly specified.\n"
     ]
    }
   ],
   "source": [
    "#interaction \n",
    "# Y is the target variable\n",
    "Y = weather_df['apparenttemperature'] - weather_df['temperature']\n",
    "\n",
    "weather_df[\"humidity\"] = weather_df.humidity * weather_df.windspeed\n",
    "\n",
    "# X is the feature set\n",
    "X = weather_df[['humidity','windspeed']]\n",
    "\n",
    "# We add a constant to the model as it's a best practice\n",
    "# to do so every time!\n",
    "X = sm.add_constant(X)\n",
    "\n",
    "# We fit an OLS model using statsmodels\n",
    "results = sm.OLS(Y, X).fit()\n",
    "\n",
    "# We print the summary results\n",
    "print(results.summary())"
   ]
  },
  {
   "cell_type": "code",
   "execution_count": null,
   "metadata": {},
   "outputs": [],
   "source": [
    "#old diff_apptemp_n_temp = 2.4381-3.0292(humidity)-0.1193(windspeed)\n",
    "#New estimated model \n",
    "    #Diff_apparent_and_temp = 0.2178-0.2854(humidity)+0.0819(windspeed)\n",
    "    #all coefficients are ss\n",
    "    #the sign changed for windspeed\n",
    "    #interpretation of coeffs: As windspeed increases by one, the difference between the \n",
    "    #apparent temp and the temp will decline by 0.0819 on average. As humidity increases by 1, \n",
    "    #the difference between the apparent temp and the temp will decrease by -0.2854 degrees.\n",
    "    \n"
   ]
  }
 ],
 "metadata": {
  "kernelspec": {
   "display_name": "Python 3",
   "language": "python",
   "name": "python3"
  },
  "language_info": {
   "codemirror_mode": {
    "name": "ipython",
    "version": 3
   },
   "file_extension": ".py",
   "mimetype": "text/x-python",
   "name": "python",
   "nbconvert_exporter": "python",
   "pygments_lexer": "ipython3",
   "version": "3.7.3"
  }
 },
 "nbformat": 4,
 "nbformat_minor": 2
}
